{
 "cells": [
  {
   "cell_type": "markdown",
   "id": "4d6e005d",
   "metadata": {},
   "source": [
    "####tripadvisor 크롤러###"
   ]
  },
  {
   "cell_type": "code",
   "execution_count": null,
   "id": "b466307b",
   "metadata": {},
   "outputs": [],
   "source": [
    "from selenium import webdriver\n",
    "from selenium.webdriver.common.keys import Keys\n",
    "from selenium.common.exceptions import NoSuchElementException\n",
    "import time\n",
    "import pandas as pd\n",
    "import openpyxl\n",
    "import os\n",
    "\n",
    "#본인chromedriver경로입력\n",
    "driver = webdriver.Chrome(executable_path='/Users/chanseonpark/chromedriver') \n",
    "#접근할 페이지 url 입력\n",
    "driver.get(\"https://www.tripadvisor.co.kr/Attraction_Review-g294197-d12309166-Reviews-Seoul_Sky-Seoul.html\")\n",
    "time.sleep(1)\n",
    "\n",
    "result=[]\n",
    "cnt=1\n",
    "\n",
    "try:\n",
    "    while True:\n",
    "        print(('='*110)+'\\n'+(\"{}번째 page\".format(cnt))+'\\n'+('='*110))\n",
    "        for num in range(0,11):\n",
    "            print(\"{}번째 글\".format(num+1))\n",
    "            try:\n",
    "                review = driver.find_element_by_xpath('//*[@id=\"tab-data-qa-reviews-0\"]/div/div[5]/div['+str(num)+']/span/div/div[5]/div[1]/div/span').text\n",
    "            except NoSuchElementException:\n",
    "                print('None\\n'+'-'*110)\n",
    "                continue\n",
    "            result.append(review)\n",
    "            print(review)\n",
    "            print('-'*110)\n",
    "        cnt += 1\n",
    "        driver.find_element_by_xpath('//*[@id=\"tab-data-qa-reviews-0\"]/div/div[5]/div[11]/div[1]/div/div[1]/div[2]/div').click()\n",
    "        time.sleep(1)\n",
    "except NoSuchElementException:\n",
    "    print((\"#\"*20)+\"크롤링 완료\"+(\"#\"*20))\n",
    "    \n",
    "    \n",
    "result_df = pd.DataFrame(result)\n",
    "result_df.to_csv(\"tripadvisor.csv\",index=True)"
   ]
  }
 ],
 "metadata": {
  "kernelspec": {
   "display_name": "Python 3",
   "language": "python",
   "name": "python3"
  },
  "language_info": {
   "codemirror_mode": {
    "name": "ipython",
    "version": 3
   },
   "file_extension": ".py",
   "mimetype": "text/x-python",
   "name": "python",
   "nbconvert_exporter": "python",
   "pygments_lexer": "ipython3",
   "version": "3.8.8"
  }
 },
 "nbformat": 4,
 "nbformat_minor": 5
}
