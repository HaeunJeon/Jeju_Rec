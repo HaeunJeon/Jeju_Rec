{
 "cells": [
  {
   "cell_type": "code",
   "execution_count": null,
   "id": "e0bb6542",
   "metadata": {},
   "outputs": [],
   "source": [
    "#네이버 리뷰 크롤러\n",
    "\n",
    "from selenium import webdriver\n",
    "import time\n",
    "from selenium.webdriver.common.keys import Keys\n",
    "from selenium.common.exceptions import NoSuchElementException\n",
    "import pandas as pd\n",
    "import os\n",
    "from selenium.webdriver.common.by import By\n",
    "\n",
    "\n",
    "# 크롬창(웹드라이버) 열기\n",
    "driver = webdriver.Chrome()\n",
    "\n",
    "\n",
    "driver.get(\"https://www.visitjeju.net/kr/detail/view?contentsid=CONT_000000000500570\")\n",
    "time.sleep(1)\n",
    "\n",
    "#리뷰창 클릭\n",
    "CSS_review=\"#tab4 > h2 > a\"\n",
    "driver.find_element(By.CSS_SELECTOR, CSS_review).click()\n",
    "title = driver.find_element_by_css_selector(\"#content > div.cont.detail_page.detail_style > div.sub_visual_wrap > div.inner_wrap > div.sub_info_area > div.sub_info_title > h3\")\n",
    "\n",
    "# 페이지 넘기기\n",
    "\n",
    "def btn_more():\n",
    "    spread_review = driver.find_elements_by_css_selector(\"#tab4 > div > div > button\")\n",
    "   \n",
    "    driver.execute_script(\"arguments[0].click()\", spread_review[0])\n",
    "    time.sleep(2)\n",
    "    \n",
    "result_df = pd.DataFrame()\n",
    "page = 0\n",
    "num = 0\n",
    "button = 800\n",
    "\n",
    "while num < button :\n",
    "    try:\n",
    "        for i in range(1, 11):\n",
    "            writer = driver.find_element_by_css_selector(f\"#tab4 > div > div > ul > li:nth-child({page*10 + i}) > p > span.name\")\n",
    "            review = driver.find_element_by_css_selector(f'#tab4 > div > div > ul > li:nth-child({page*10 + i}) > dl > dd.sh_blog_passage')\n",
    "            df = pd.DataFrame({'place':title.text,\n",
    "                               'writer':writer.text,\n",
    "                               'review' : review.text}, index = [0])\n",
    "            result_df = pd.concat([result_df, df], ignore_index=True)\n",
    "    except NoSuchElementException:\n",
    "        break\n",
    "        \n",
    "    page += 1\n",
    "    num += 1\n",
    "    \n",
    "    btn_more()\n",
    "    \n",
    "result_df.head()"
   ]
  },
  {
   "cell_type": "code",
   "execution_count": null,
   "id": "c77b003b",
   "metadata": {},
   "outputs": [],
   "source": [
    "if(os.path.exists('naver_review.csv')):\n",
    "    result_df.to_csv('naver_review.csv',mode='a', encoding='utf-8-sig', header=False)\n",
    "else:\n",
    "    result_df.to_csv('naver_review.csv',mode='w', encoding='utf-8-sig')"
   ]
  }
 ],
 "metadata": {
  "kernelspec": {
   "display_name": "Python 3 (ipykernel)",
   "language": "python",
   "name": "python3"
  },
  "language_info": {
   "codemirror_mode": {
    "name": "ipython",
    "version": 3
   },
   "file_extension": ".py",
   "mimetype": "text/x-python",
   "name": "python",
   "nbconvert_exporter": "python",
   "pygments_lexer": "ipython3",
   "version": "3.9.7"
  }
 },
 "nbformat": 4,
 "nbformat_minor": 5
}
