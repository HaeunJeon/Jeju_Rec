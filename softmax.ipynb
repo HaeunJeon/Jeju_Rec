{
  "nbformat": 4,
  "nbformat_minor": 0,
  "metadata": {
    "colab": {
      "name": "제주 모델",
      "provenance": [],
      "collapsed_sections": [],
      "toc_visible": true,
      "mount_file_id": "1adr2-lvQOiHuGkIfrkrfUmjra2GKH8nE",
      "authorship_tag": "ABX9TyN4YPQ28kTgHTt9Mpm7emV+",
      "include_colab_link": true
    },
    "kernelspec": {
      "name": "python3",
      "display_name": "Python 3"
    },
    "language_info": {
      "name": "python"
    }
  },
  "cells": [
    {
      "cell_type": "markdown",
      "metadata": {
        "id": "view-in-github",
        "colab_type": "text"
      },
      "source": [
        "<a href=\"https://colab.research.google.com/github/HaeunJeon/Jeju_Rec/blob/main/%EC%A0%9C%EC%A3%BC_%EB%AA%A8%EB%8D%B8.ipynb\" target=\"_parent\"><img src=\"https://colab.research.google.com/assets/colab-badge.svg\" alt=\"Open In Colab\"/></a>"
      ]
    },
    {
      "cell_type": "code",
      "execution_count": null,
      "metadata": {
        "colab": {
          "base_uri": "https://localhost:8080/"
        },
        "id": "Dbu-GsifDUCo",
        "outputId": "b355d36e-be77-4b0a-ab2a-068fdc3b82d5"
      },
      "outputs": [
        {
          "output_type": "stream",
          "name": "stdout",
          "text": [
            "Requirement already satisfied: konlpy in /usr/local/lib/python3.7/dist-packages (0.6.0)\n",
            "Requirement already satisfied: numpy>=1.6 in /usr/local/lib/python3.7/dist-packages (from konlpy) (1.21.5)\n",
            "Requirement already satisfied: lxml>=4.1.0 in /usr/local/lib/python3.7/dist-packages (from konlpy) (4.2.6)\n",
            "Requirement already satisfied: JPype1>=0.7.0 in /usr/local/lib/python3.7/dist-packages (from konlpy) (1.3.0)\n",
            "Requirement already satisfied: typing-extensions in /usr/local/lib/python3.7/dist-packages (from JPype1>=0.7.0->konlpy) (3.10.0.2)\n"
          ]
        }
      ],
      "source": [
        "!pip install konlpy"
      ]
    },
    {
      "cell_type": "code",
      "source": [
        "import pandas as pd\n",
        "import numpy as np\n",
        "%matplotlib inline\n",
        "import matplotlib.pyplot as plt\n",
        "import re\n",
        "import urllib.request\n",
        "from konlpy.tag import Okt\n",
        "from tensorflow.keras.preprocessing.text import Tokenizer\n",
        "from tensorflow.keras.preprocessing.sequence import pad_sequences"
      ],
      "metadata": {
        "id": "zApVcOswEPeu"
      },
      "execution_count": null,
      "outputs": []
    },
    {
      "cell_type": "code",
      "source": [
        "import pandas as pd"
      ],
      "metadata": {
        "id": "lc5GNOcZETp_"
      },
      "execution_count": null,
      "outputs": []
    },
    {
      "cell_type": "code",
      "source": [
        "test_data=pd.read_csv(\"/content/drive/MyDrive/종합설계/labeled_jeju\")"
      ],
      "metadata": {
        "id": "cxPb0XG0EW7K"
      },
      "execution_count": null,
      "outputs": []
    },
    {
      "cell_type": "code",
      "source": [
        "train_data.columns=['text','name','label']\n",
        "train_data.head()"
      ],
      "metadata": {
        "colab": {
          "base_uri": "https://localhost:8080/",
          "height": 206
        },
        "id": "ILsu2toSEkZW",
        "outputId": "182badca-6523-49f1-8808-d6586b0547bf"
      },
      "execution_count": null,
      "outputs": [
        {
          "output_type": "execute_result",
          "data": {
            "text/plain": [
              "                                                text        name  label\n",
              "0                             청정 우도에서 만난 청정 노을의 맑은 색  우도(해양도립공원)      2\n",
              "1  보리밭을 지나다 아름다운 풍경에 홀릭  마침 남편의 생일을 맞아 멋진 사진을 남겨 ...  우도(해양도립공원)      2\n",
              "2  보리밭을 지나다 아름다운 풍경에 홀릭  마침 남편의 생일을 맞아 멋진 사진을 남겨 ...  우도(해양도립공원)      2\n",
              "3  우도섬에 봄이 왔습니다 유채와 청보리 파란 하늘과 그보다 더 푸른섬 우도가 제주의 ...  우도(해양도립공원)      2\n",
              "4  일몰이 제일 아름답다는 우도 낮에 사람들로 가득한 우도는 마지막 배가 떠나고 나면 ...  우도(해양도립공원)      2"
            ],
            "text/html": [
              "\n",
              "  <div id=\"df-7d4204bd-174d-41a4-8028-798671694e0a\">\n",
              "    <div class=\"colab-df-container\">\n",
              "      <div>\n",
              "<style scoped>\n",
              "    .dataframe tbody tr th:only-of-type {\n",
              "        vertical-align: middle;\n",
              "    }\n",
              "\n",
              "    .dataframe tbody tr th {\n",
              "        vertical-align: top;\n",
              "    }\n",
              "\n",
              "    .dataframe thead th {\n",
              "        text-align: right;\n",
              "    }\n",
              "</style>\n",
              "<table border=\"1\" class=\"dataframe\">\n",
              "  <thead>\n",
              "    <tr style=\"text-align: right;\">\n",
              "      <th></th>\n",
              "      <th>text</th>\n",
              "      <th>name</th>\n",
              "      <th>label</th>\n",
              "    </tr>\n",
              "  </thead>\n",
              "  <tbody>\n",
              "    <tr>\n",
              "      <th>0</th>\n",
              "      <td>청정 우도에서 만난 청정 노을의 맑은 색</td>\n",
              "      <td>우도(해양도립공원)</td>\n",
              "      <td>2</td>\n",
              "    </tr>\n",
              "    <tr>\n",
              "      <th>1</th>\n",
              "      <td>보리밭을 지나다 아름다운 풍경에 홀릭  마침 남편의 생일을 맞아 멋진 사진을 남겨 ...</td>\n",
              "      <td>우도(해양도립공원)</td>\n",
              "      <td>2</td>\n",
              "    </tr>\n",
              "    <tr>\n",
              "      <th>2</th>\n",
              "      <td>보리밭을 지나다 아름다운 풍경에 홀릭  마침 남편의 생일을 맞아 멋진 사진을 남겨 ...</td>\n",
              "      <td>우도(해양도립공원)</td>\n",
              "      <td>2</td>\n",
              "    </tr>\n",
              "    <tr>\n",
              "      <th>3</th>\n",
              "      <td>우도섬에 봄이 왔습니다 유채와 청보리 파란 하늘과 그보다 더 푸른섬 우도가 제주의 ...</td>\n",
              "      <td>우도(해양도립공원)</td>\n",
              "      <td>2</td>\n",
              "    </tr>\n",
              "    <tr>\n",
              "      <th>4</th>\n",
              "      <td>일몰이 제일 아름답다는 우도 낮에 사람들로 가득한 우도는 마지막 배가 떠나고 나면 ...</td>\n",
              "      <td>우도(해양도립공원)</td>\n",
              "      <td>2</td>\n",
              "    </tr>\n",
              "  </tbody>\n",
              "</table>\n",
              "</div>\n",
              "      <button class=\"colab-df-convert\" onclick=\"convertToInteractive('df-7d4204bd-174d-41a4-8028-798671694e0a')\"\n",
              "              title=\"Convert this dataframe to an interactive table.\"\n",
              "              style=\"display:none;\">\n",
              "        \n",
              "  <svg xmlns=\"http://www.w3.org/2000/svg\" height=\"24px\"viewBox=\"0 0 24 24\"\n",
              "       width=\"24px\">\n",
              "    <path d=\"M0 0h24v24H0V0z\" fill=\"none\"/>\n",
              "    <path d=\"M18.56 5.44l.94 2.06.94-2.06 2.06-.94-2.06-.94-.94-2.06-.94 2.06-2.06.94zm-11 1L8.5 8.5l.94-2.06 2.06-.94-2.06-.94L8.5 2.5l-.94 2.06-2.06.94zm10 10l.94 2.06.94-2.06 2.06-.94-2.06-.94-.94-2.06-.94 2.06-2.06.94z\"/><path d=\"M17.41 7.96l-1.37-1.37c-.4-.4-.92-.59-1.43-.59-.52 0-1.04.2-1.43.59L10.3 9.45l-7.72 7.72c-.78.78-.78 2.05 0 2.83L4 21.41c.39.39.9.59 1.41.59.51 0 1.02-.2 1.41-.59l7.78-7.78 2.81-2.81c.8-.78.8-2.07 0-2.86zM5.41 20L4 18.59l7.72-7.72 1.47 1.35L5.41 20z\"/>\n",
              "  </svg>\n",
              "      </button>\n",
              "      \n",
              "  <style>\n",
              "    .colab-df-container {\n",
              "      display:flex;\n",
              "      flex-wrap:wrap;\n",
              "      gap: 12px;\n",
              "    }\n",
              "\n",
              "    .colab-df-convert {\n",
              "      background-color: #E8F0FE;\n",
              "      border: none;\n",
              "      border-radius: 50%;\n",
              "      cursor: pointer;\n",
              "      display: none;\n",
              "      fill: #1967D2;\n",
              "      height: 32px;\n",
              "      padding: 0 0 0 0;\n",
              "      width: 32px;\n",
              "    }\n",
              "\n",
              "    .colab-df-convert:hover {\n",
              "      background-color: #E2EBFA;\n",
              "      box-shadow: 0px 1px 2px rgba(60, 64, 67, 0.3), 0px 1px 3px 1px rgba(60, 64, 67, 0.15);\n",
              "      fill: #174EA6;\n",
              "    }\n",
              "\n",
              "    [theme=dark] .colab-df-convert {\n",
              "      background-color: #3B4455;\n",
              "      fill: #D2E3FC;\n",
              "    }\n",
              "\n",
              "    [theme=dark] .colab-df-convert:hover {\n",
              "      background-color: #434B5C;\n",
              "      box-shadow: 0px 1px 3px 1px rgba(0, 0, 0, 0.15);\n",
              "      filter: drop-shadow(0px 1px 2px rgba(0, 0, 0, 0.3));\n",
              "      fill: #FFFFFF;\n",
              "    }\n",
              "  </style>\n",
              "\n",
              "      <script>\n",
              "        const buttonEl =\n",
              "          document.querySelector('#df-7d4204bd-174d-41a4-8028-798671694e0a button.colab-df-convert');\n",
              "        buttonEl.style.display =\n",
              "          google.colab.kernel.accessAllowed ? 'block' : 'none';\n",
              "\n",
              "        async function convertToInteractive(key) {\n",
              "          const element = document.querySelector('#df-7d4204bd-174d-41a4-8028-798671694e0a');\n",
              "          const dataTable =\n",
              "            await google.colab.kernel.invokeFunction('convertToInteractive',\n",
              "                                                     [key], {});\n",
              "          if (!dataTable) return;\n",
              "\n",
              "          const docLinkHtml = 'Like what you see? Visit the ' +\n",
              "            '<a target=\"_blank\" href=https://colab.research.google.com/notebooks/data_table.ipynb>data table notebook</a>'\n",
              "            + ' to learn more about interactive tables.';\n",
              "          element.innerHTML = '';\n",
              "          dataTable['output_type'] = 'display_data';\n",
              "          await google.colab.output.renderOutput(dataTable, element);\n",
              "          const docLink = document.createElement('div');\n",
              "          docLink.innerHTML = docLinkHtml;\n",
              "          element.appendChild(docLink);\n",
              "        }\n",
              "      </script>\n",
              "    </div>\n",
              "  </div>\n",
              "  "
            ]
          },
          "metadata": {},
          "execution_count": 244
        }
      ]
    },
    {
      "cell_type": "code",
      "source": [
        "train_data['text'] = train_data['text'].str.replace(\"[^ㄱ-ㅎㅏ-ㅣ가-힣 ]\",\"\")\n",
        "# 한글과 공백을 제외하고 모두 제거\n",
        "train_data[:5]"
      ],
      "metadata": {
        "colab": {
          "base_uri": "https://localhost:8080/",
          "height": 262
        },
        "id": "1AIv2YQyGl9E",
        "outputId": "9212b8e5-9ac9-43b4-833f-4437becf7a66"
      },
      "execution_count": null,
      "outputs": [
        {
          "output_type": "stream",
          "name": "stderr",
          "text": [
            "/usr/local/lib/python3.7/dist-packages/ipykernel_launcher.py:1: FutureWarning: The default value of regex will change from True to False in a future version.\n",
            "  \"\"\"Entry point for launching an IPython kernel.\n"
          ]
        },
        {
          "output_type": "execute_result",
          "data": {
            "text/plain": [
              "                                                text        name  label\n",
              "0                             청정 우도에서 만난 청정 노을의 맑은 색  우도(해양도립공원)      2\n",
              "1  보리밭을 지나다 아름다운 풍경에 홀릭  마침 남편의 생일을 맞아 멋진 사진을 남겨 ...  우도(해양도립공원)      2\n",
              "2  보리밭을 지나다 아름다운 풍경에 홀릭  마침 남편의 생일을 맞아 멋진 사진을 남겨 ...  우도(해양도립공원)      2\n",
              "3  우도섬에 봄이 왔습니다 유채와 청보리 파란 하늘과 그보다 더 푸른섬 우도가 제주의 ...  우도(해양도립공원)      2\n",
              "4  일몰이 제일 아름답다는 우도 낮에 사람들로 가득한 우도는 마지막 배가 떠나고 나면 ...  우도(해양도립공원)      2"
            ],
            "text/html": [
              "\n",
              "  <div id=\"df-881084b3-6e2e-4da5-b36f-638937024e31\">\n",
              "    <div class=\"colab-df-container\">\n",
              "      <div>\n",
              "<style scoped>\n",
              "    .dataframe tbody tr th:only-of-type {\n",
              "        vertical-align: middle;\n",
              "    }\n",
              "\n",
              "    .dataframe tbody tr th {\n",
              "        vertical-align: top;\n",
              "    }\n",
              "\n",
              "    .dataframe thead th {\n",
              "        text-align: right;\n",
              "    }\n",
              "</style>\n",
              "<table border=\"1\" class=\"dataframe\">\n",
              "  <thead>\n",
              "    <tr style=\"text-align: right;\">\n",
              "      <th></th>\n",
              "      <th>text</th>\n",
              "      <th>name</th>\n",
              "      <th>label</th>\n",
              "    </tr>\n",
              "  </thead>\n",
              "  <tbody>\n",
              "    <tr>\n",
              "      <th>0</th>\n",
              "      <td>청정 우도에서 만난 청정 노을의 맑은 색</td>\n",
              "      <td>우도(해양도립공원)</td>\n",
              "      <td>2</td>\n",
              "    </tr>\n",
              "    <tr>\n",
              "      <th>1</th>\n",
              "      <td>보리밭을 지나다 아름다운 풍경에 홀릭  마침 남편의 생일을 맞아 멋진 사진을 남겨 ...</td>\n",
              "      <td>우도(해양도립공원)</td>\n",
              "      <td>2</td>\n",
              "    </tr>\n",
              "    <tr>\n",
              "      <th>2</th>\n",
              "      <td>보리밭을 지나다 아름다운 풍경에 홀릭  마침 남편의 생일을 맞아 멋진 사진을 남겨 ...</td>\n",
              "      <td>우도(해양도립공원)</td>\n",
              "      <td>2</td>\n",
              "    </tr>\n",
              "    <tr>\n",
              "      <th>3</th>\n",
              "      <td>우도섬에 봄이 왔습니다 유채와 청보리 파란 하늘과 그보다 더 푸른섬 우도가 제주의 ...</td>\n",
              "      <td>우도(해양도립공원)</td>\n",
              "      <td>2</td>\n",
              "    </tr>\n",
              "    <tr>\n",
              "      <th>4</th>\n",
              "      <td>일몰이 제일 아름답다는 우도 낮에 사람들로 가득한 우도는 마지막 배가 떠나고 나면 ...</td>\n",
              "      <td>우도(해양도립공원)</td>\n",
              "      <td>2</td>\n",
              "    </tr>\n",
              "  </tbody>\n",
              "</table>\n",
              "</div>\n",
              "      <button class=\"colab-df-convert\" onclick=\"convertToInteractive('df-881084b3-6e2e-4da5-b36f-638937024e31')\"\n",
              "              title=\"Convert this dataframe to an interactive table.\"\n",
              "              style=\"display:none;\">\n",
              "        \n",
              "  <svg xmlns=\"http://www.w3.org/2000/svg\" height=\"24px\"viewBox=\"0 0 24 24\"\n",
              "       width=\"24px\">\n",
              "    <path d=\"M0 0h24v24H0V0z\" fill=\"none\"/>\n",
              "    <path d=\"M18.56 5.44l.94 2.06.94-2.06 2.06-.94-2.06-.94-.94-2.06-.94 2.06-2.06.94zm-11 1L8.5 8.5l.94-2.06 2.06-.94-2.06-.94L8.5 2.5l-.94 2.06-2.06.94zm10 10l.94 2.06.94-2.06 2.06-.94-2.06-.94-.94-2.06-.94 2.06-2.06.94z\"/><path d=\"M17.41 7.96l-1.37-1.37c-.4-.4-.92-.59-1.43-.59-.52 0-1.04.2-1.43.59L10.3 9.45l-7.72 7.72c-.78.78-.78 2.05 0 2.83L4 21.41c.39.39.9.59 1.41.59.51 0 1.02-.2 1.41-.59l7.78-7.78 2.81-2.81c.8-.78.8-2.07 0-2.86zM5.41 20L4 18.59l7.72-7.72 1.47 1.35L5.41 20z\"/>\n",
              "  </svg>\n",
              "      </button>\n",
              "      \n",
              "  <style>\n",
              "    .colab-df-container {\n",
              "      display:flex;\n",
              "      flex-wrap:wrap;\n",
              "      gap: 12px;\n",
              "    }\n",
              "\n",
              "    .colab-df-convert {\n",
              "      background-color: #E8F0FE;\n",
              "      border: none;\n",
              "      border-radius: 50%;\n",
              "      cursor: pointer;\n",
              "      display: none;\n",
              "      fill: #1967D2;\n",
              "      height: 32px;\n",
              "      padding: 0 0 0 0;\n",
              "      width: 32px;\n",
              "    }\n",
              "\n",
              "    .colab-df-convert:hover {\n",
              "      background-color: #E2EBFA;\n",
              "      box-shadow: 0px 1px 2px rgba(60, 64, 67, 0.3), 0px 1px 3px 1px rgba(60, 64, 67, 0.15);\n",
              "      fill: #174EA6;\n",
              "    }\n",
              "\n",
              "    [theme=dark] .colab-df-convert {\n",
              "      background-color: #3B4455;\n",
              "      fill: #D2E3FC;\n",
              "    }\n",
              "\n",
              "    [theme=dark] .colab-df-convert:hover {\n",
              "      background-color: #434B5C;\n",
              "      box-shadow: 0px 1px 3px 1px rgba(0, 0, 0, 0.15);\n",
              "      filter: drop-shadow(0px 1px 2px rgba(0, 0, 0, 0.3));\n",
              "      fill: #FFFFFF;\n",
              "    }\n",
              "  </style>\n",
              "\n",
              "      <script>\n",
              "        const buttonEl =\n",
              "          document.querySelector('#df-881084b3-6e2e-4da5-b36f-638937024e31 button.colab-df-convert');\n",
              "        buttonEl.style.display =\n",
              "          google.colab.kernel.accessAllowed ? 'block' : 'none';\n",
              "\n",
              "        async function convertToInteractive(key) {\n",
              "          const element = document.querySelector('#df-881084b3-6e2e-4da5-b36f-638937024e31');\n",
              "          const dataTable =\n",
              "            await google.colab.kernel.invokeFunction('convertToInteractive',\n",
              "                                                     [key], {});\n",
              "          if (!dataTable) return;\n",
              "\n",
              "          const docLinkHtml = 'Like what you see? Visit the ' +\n",
              "            '<a target=\"_blank\" href=https://colab.research.google.com/notebooks/data_table.ipynb>data table notebook</a>'\n",
              "            + ' to learn more about interactive tables.';\n",
              "          element.innerHTML = '';\n",
              "          dataTable['output_type'] = 'display_data';\n",
              "          await google.colab.output.renderOutput(dataTable, element);\n",
              "          const docLink = document.createElement('div');\n",
              "          docLink.innerHTML = docLinkHtml;\n",
              "          element.appendChild(docLink);\n",
              "        }\n",
              "      </script>\n",
              "    </div>\n",
              "  </div>\n",
              "  "
            ]
          },
          "metadata": {},
          "execution_count": 245
        }
      ]
    },
    {
      "cell_type": "code",
      "source": [
        "stopwords = ['의','가','이','은','들','는','좀','잘','걍','과','도','를','으로','자','에','와','한','하다']"
      ],
      "metadata": {
        "id": "gkZcCh5zJvDe"
      },
      "execution_count": null,
      "outputs": []
    },
    {
      "cell_type": "code",
      "source": [
        "okt = Okt()\n",
        "okt.morphs('와 이런 것도 영화라고 차라리 뮤직비디오를 만드는 게 나을 뻔', stem = True)"
      ],
      "metadata": {
        "colab": {
          "base_uri": "https://localhost:8080/"
        },
        "id": "lHU2ybjiJ3yv",
        "outputId": "212df448-1752-4bbd-e6b6-0de20d953386"
      },
      "execution_count": null,
      "outputs": [
        {
          "output_type": "execute_result",
          "data": {
            "text/plain": [
              "['오다', '이렇다', '것', '도', '영화', '라고', '차라리', '뮤직비디오', '를', '만들다', '게', '나다', '뻔']"
            ]
          },
          "metadata": {},
          "execution_count": 247
        }
      ]
    },
    {
      "cell_type": "code",
      "source": [
        "X_train = []\n",
        "for sentence in train_data['text']:\n",
        "    temp_X = okt.morphs(sentence, stem=True) # 토큰화\n",
        "    temp_X = [word for word in temp_X if not word in stopwords] # 불용어 제거\n",
        "    X_train.append(temp_X)"
      ],
      "metadata": {
        "id": "Hvlo-5rjKXxk"
      },
      "execution_count": null,
      "outputs": []
    },
    {
      "cell_type": "code",
      "source": [
        "tokenizer = Tokenizer()\n",
        "tokenizer.fit_on_texts(X_train)"
      ],
      "metadata": {
        "id": "aZH7ACKbKod1"
      },
      "execution_count": null,
      "outputs": []
    },
    {
      "cell_type": "code",
      "source": [
        "threshold = 3\n",
        "total_cnt = len(tokenizer.word_index) # 단어의 수\n",
        "rare_cnt = 0 # 등장 빈도수가 threshold보다 작은 단어의 개수를 카운트\n",
        "total_freq = 0 # 훈련 데이터의 전체 단어 빈도수 총 합\n",
        "rare_freq = 0 # 등장 빈도수가 threshold보다 작은 단어의 등장 빈도수의 총 합\n",
        "\n",
        "# 단어와 빈도수의 쌍(pair)을 key와 value로 받는다.\n",
        "for key, value in tokenizer.word_counts.items():\n",
        "    total_freq = total_freq + value\n",
        "\n",
        "    # 단어의 등장 빈도수가 threshold보다 작으면\n",
        "    if(value < threshold):\n",
        "        rare_cnt = rare_cnt + 1\n",
        "        rare_freq = rare_freq + value\n",
        "\n",
        "print('단어 집합(vocabulary)의 크기 :',total_cnt)\n",
        "print('등장 빈도가 %s번 이하인 희귀 단어의 수: %s'%(threshold - 1, rare_cnt))\n",
        "print(\"단어 집합에서 희귀 단어의 비율:\", (rare_cnt / total_cnt)*100)\n",
        "print(\"전체 등장 빈도에서 희귀 단어 등장 빈도 비율:\", (rare_freq / total_freq)*100)"
      ],
      "metadata": {
        "colab": {
          "base_uri": "https://localhost:8080/"
        },
        "id": "kP0LK_GzKzB1",
        "outputId": "2a866bd5-675f-4353-86a0-1a66b9ffdf19"
      },
      "execution_count": null,
      "outputs": [
        {
          "output_type": "stream",
          "name": "stdout",
          "text": [
            "단어 집합(vocabulary)의 크기 : 9050\n",
            "등장 빈도가 2번 이하인 희귀 단어의 수: 5203\n",
            "단어 집합에서 희귀 단어의 비율: 57.491712707182316\n",
            "전체 등장 빈도에서 희귀 단어 등장 빈도 비율: 4.953017874632713\n"
          ]
        }
      ]
    },
    {
      "cell_type": "code",
      "source": [
        "vocab_size = total_cnt - rare_cnt + 1\n",
        "print('단어 집합의 크기 :',vocab_size)"
      ],
      "metadata": {
        "colab": {
          "base_uri": "https://localhost:8080/"
        },
        "id": "J5_N3qV8K1h0",
        "outputId": "50a75451-c5a2-46bf-e5c8-d8ada7c5d97b"
      },
      "execution_count": null,
      "outputs": [
        {
          "output_type": "stream",
          "name": "stdout",
          "text": [
            "단어 집합의 크기 : 3848\n"
          ]
        }
      ]
    },
    {
      "cell_type": "code",
      "source": [
        "tokenizer = Tokenizer(vocab_size)\n",
        "tokenizer.fit_on_texts(X_train)\n",
        "X_train = tokenizer.texts_to_sequences(X_train)"
      ],
      "metadata": {
        "id": "9eoiBa5ELH1t"
      },
      "execution_count": null,
      "outputs": []
    },
    {
      "cell_type": "code",
      "source": [
        "print(X_train[:3])"
      ],
      "metadata": {
        "colab": {
          "base_uri": "https://localhost:8080/"
        },
        "id": "6wBxzwvmLONO",
        "outputId": "627be2e5-aec7-4e50-caf7-72738fb30b3c"
      },
      "execution_count": null,
      "outputs": [
        {
          "output_type": "stream",
          "name": "stdout",
          "text": [
            "[[1460, 57, 8, 811, 1460, 384, 313, 775], [2022, 1, 776, 20, 70, 2779, 1545, 850, 1194, 1, 371, 68, 23, 1, 991, 181, 213, 21, 1, 3219, 23, 55, 670, 3220, 64, 102, 5, 20, 1460, 1634, 8, 1861, 20, 1461, 272, 62], [2022, 1, 776, 20, 70, 2779, 1545, 850, 1194, 1, 371, 68, 23, 1, 991, 181, 213, 21, 1, 3219, 23, 55, 670, 3220, 64, 102, 5, 20, 1460, 1634, 8, 1861, 20, 1461, 272, 62]]\n"
          ]
        }
      ]
    },
    {
      "cell_type": "markdown",
      "source": [
        "# **인코딩**"
      ],
      "metadata": {
        "id": "1vpWq20oD0Kh"
      }
    },
    {
      "cell_type": "code",
      "source": [
        "from sklearn.preprocessing import LabelEncoder\n",
        "encoder=LabelEncoder()\n",
        "y=encoder.fit_transform(train_data['label']) #인코더에 맞게 변환중 \n",
        "train_data['label']=y # 하고 추가 "
      ],
      "metadata": {
        "id": "FnwYdrxGLUKe"
      },
      "execution_count": null,
      "outputs": []
    },
    {
      "cell_type": "code",
      "source": [
        "y_train = np.array(train_data['label'])"
      ],
      "metadata": {
        "id": "kDb_2OMmLWOY"
      },
      "execution_count": null,
      "outputs": []
    },
    {
      "cell_type": "code",
      "source": [
        "drop_train = [index for index, sentence in enumerate(X_train) if len(sentence) < 1]"
      ],
      "metadata": {
        "id": "fFNFJr_wLaY1"
      },
      "execution_count": null,
      "outputs": []
    },
    {
      "cell_type": "code",
      "source": [
        "X_train = np.delete(X_train, drop_train, axis=0)\n",
        "y_train = np.delete(y_train, drop_train, axis=0)\n",
        "print(len(X_train))\n",
        "print(len(y_train))"
      ],
      "metadata": {
        "colab": {
          "base_uri": "https://localhost:8080/"
        },
        "id": "1Si6E8vmLbJb",
        "outputId": "d4b9aa29-cd6b-45f5-83f3-0d3d48fd0398"
      },
      "execution_count": null,
      "outputs": [
        {
          "output_type": "stream",
          "name": "stdout",
          "text": [
            "5918\n",
            "5918\n"
          ]
        },
        {
          "output_type": "stream",
          "name": "stderr",
          "text": [
            "/usr/local/lib/python3.7/dist-packages/numpy/lib/function_base.py:4454: VisibleDeprecationWarning: Creating an ndarray from ragged nested sequences (which is a list-or-tuple of lists-or-tuples-or ndarrays with different lengths or shapes) is deprecated. If you meant to do this, you must specify 'dtype=object' when creating the ndarray.\n",
            "  arr = asarray(arr)\n"
          ]
        }
      ]
    },
    {
      "cell_type": "code",
      "source": [
        "def below_threshold_len(max_len, nested_list):\n",
        "  cnt = 0\n",
        "  for s in nested_list:\n",
        "    if(len(s) <= max_len):\n",
        "        cnt = cnt + 1\n",
        "  print('전체 샘플 중 길이가 %s 이하인 샘플의 비율: %s'%(max_len, (cnt / len(nested_list))*100))"
      ],
      "metadata": {
        "id": "KvufG8SOLu4C"
      },
      "execution_count": null,
      "outputs": []
    },
    {
      "cell_type": "code",
      "source": [
        "#최대 길이 지정해 주려고 \n",
        "max_len = 100\n",
        "below_threshold_len(max_len, X_train)"
      ],
      "metadata": {
        "colab": {
          "base_uri": "https://localhost:8080/"
        },
        "id": "NGJEO5ZpLwDI",
        "outputId": "a9d67325-5078-4603-f23b-f6808dfa5993"
      },
      "execution_count": null,
      "outputs": [
        {
          "output_type": "stream",
          "name": "stdout",
          "text": [
            "전체 샘플 중 길이가 100 이하인 샘플의 비율: 99.25650557620817\n"
          ]
        }
      ]
    },
    {
      "cell_type": "code",
      "source": [
        "X_train = pad_sequences(X_train, maxlen = max_len)"
      ],
      "metadata": {
        "id": "P_Xm1c4eLySs"
      },
      "execution_count": null,
      "outputs": []
    },
    {
      "cell_type": "code",
      "source": [
        "from tensorflow.keras.layers import Embedding, Dense, LSTM\n",
        "from tensorflow.keras.models import Sequential\n",
        "from tensorflow.keras.models import load_model\n",
        "from tensorflow.keras.callbacks import EarlyStopping, ModelCheckpoint"
      ],
      "metadata": {
        "id": "Ds5SMxiCL1UJ"
      },
      "execution_count": null,
      "outputs": []
    },
    {
      "cell_type": "code",
      "source": [
        "model = Sequential()\n",
        "model.add(Embedding(vocab_size, 100))\n",
        "model.add(LSTM(128))# Add a LSTM layer with 128 internal units.\n",
        "model.add(Dense(3, activation='softmax'))#Dense 레이어의 유닛수가 클래스 수에 맞게 수정해야함"
      ],
      "metadata": {
        "id": "NIvXm3GzL2j0"
      },
      "execution_count": null,
      "outputs": []
    },
    {
      "cell_type": "code",
      "source": [
        "es = EarlyStopping(monitor='val_loss', mode='min', verbose=1, patience=4)\n",
        "mc = ModelCheckpoint('best_model.h5', monitor='val_acc', mode='max', verbose=1, save_best_only=True) #가장 성능이 좋은 모델을 가져오는 과정"
      ],
      "metadata": {
        "id": "VmX0tukLL5Q8"
      },
      "execution_count": null,
      "outputs": []
    },
    {
      "cell_type": "code",
      "source": [
        "model.compile(optimizer='rmsprop', loss='sparse_categorical_crossentropy', metrics=['acc'])\n",
        "history = model.fit(X_train, y_train, epochs=15, callbacks=[es, mc], batch_size=60, validation_split=0.2)"
      ],
      "metadata": {
        "colab": {
          "base_uri": "https://localhost:8080/"
        },
        "id": "zuw7Nj03L8Pm",
        "outputId": "a3bbd12c-7393-409c-8801-a76d165e6e58"
      },
      "execution_count": null,
      "outputs": [
        {
          "output_type": "stream",
          "name": "stdout",
          "text": [
            "Epoch 1/15\n",
            "79/79 [==============================] - ETA: 0s - loss: 0.7403 - acc: 0.6935\n",
            "Epoch 1: val_acc improved from -inf to 0.01182, saving model to best_model.h5\n",
            "79/79 [==============================] - 44s 516ms/step - loss: 0.7403 - acc: 0.6935 - val_loss: 1.3823 - val_acc: 0.0118\n",
            "Epoch 2/15\n",
            "79/79 [==============================] - ETA: 0s - loss: 0.3873 - acc: 0.8576\n",
            "Epoch 2: val_acc improved from 0.01182 to 0.49240, saving model to best_model.h5\n",
            "79/79 [==============================] - 23s 293ms/step - loss: 0.3873 - acc: 0.8576 - val_loss: 1.2857 - val_acc: 0.4924\n",
            "Epoch 3/15\n",
            "79/79 [==============================] - ETA: 0s - loss: 0.2433 - acc: 0.9252\n",
            "Epoch 3: val_acc improved from 0.49240 to 0.57348, saving model to best_model.h5\n",
            "79/79 [==============================] - 23s 295ms/step - loss: 0.2433 - acc: 0.9252 - val_loss: 1.1167 - val_acc: 0.5735\n",
            "Epoch 4/15\n",
            "79/79 [==============================] - ETA: 0s - loss: 0.1643 - acc: 0.9470\n",
            "Epoch 4: val_acc improved from 0.57348 to 0.71284, saving model to best_model.h5\n",
            "79/79 [==============================] - 24s 309ms/step - loss: 0.1643 - acc: 0.9470 - val_loss: 0.9358 - val_acc: 0.7128\n",
            "Epoch 5/15\n",
            "79/79 [==============================] - ETA: 0s - loss: 0.1164 - acc: 0.9620\n",
            "Epoch 5: val_acc did not improve from 0.71284\n",
            "79/79 [==============================] - 24s 300ms/step - loss: 0.1164 - acc: 0.9620 - val_loss: 1.1150 - val_acc: 0.6740\n",
            "Epoch 6/15\n",
            "79/79 [==============================] - ETA: 0s - loss: 0.1004 - acc: 0.9706\n",
            "Epoch 6: val_acc did not improve from 0.71284\n",
            "79/79 [==============================] - 24s 305ms/step - loss: 0.1004 - acc: 0.9706 - val_loss: 1.8312 - val_acc: 0.5152\n",
            "Epoch 7/15\n",
            "79/79 [==============================] - ETA: 0s - loss: 0.0774 - acc: 0.9753\n",
            "Epoch 7: val_acc did not improve from 0.71284\n",
            "79/79 [==============================] - 32s 401ms/step - loss: 0.0774 - acc: 0.9753 - val_loss: 1.9683 - val_acc: 0.5481\n",
            "Epoch 8/15\n",
            "79/79 [==============================] - ETA: 0s - loss: 0.0647 - acc: 0.9810\n",
            "Epoch 8: val_acc did not improve from 0.71284\n",
            "79/79 [==============================] - 26s 324ms/step - loss: 0.0647 - acc: 0.9810 - val_loss: 2.3395 - val_acc: 0.4738\n",
            "Epoch 8: early stopping\n"
          ]
        }
      ]
    },
    {
      "cell_type": "markdown",
      "source": [
        "# **테스트 데이터 가져오기**"
      ],
      "metadata": {
        "id": "dc-jcrIbUfDy"
      }
    },
    {
      "cell_type": "code",
      "source": [
        "df = pd.read_excel('/content/drive/MyDrive/종합설계/테스트 원본.xlsx')\n",
        "df.to_csv('test')\n",
        "test_data=pd.read_csv(\"/content/test\")"
      ],
      "metadata": {
        "id": "Ckkd0JwqMAmB"
      },
      "execution_count": null,
      "outputs": []
    },
    {
      "cell_type": "code",
      "source": [
        "test_data = test_data.loc[:,['place', 'label', 'text']]\n",
        "test_data.columns=['name','label','text']\n",
        "test_data.tail()"
      ],
      "metadata": {
        "colab": {
          "base_uri": "https://localhost:8080/",
          "height": 206
        },
        "id": "EiZnuo4CSrLI",
        "outputId": "0f28359a-5cb9-452d-c529-917bf8128c79"
      },
      "execution_count": null,
      "outputs": [
        {
          "output_type": "execute_result",
          "data": {
            "text/plain": [
              "         name  label                                               text\n",
              "40     아쿠아플라넷  레저/체험  엄청난 규모로 대형 수족관이 있고 다양한 물고기를 볼 수 있다. 환상적인 공연도 있...\n",
              "41  수월봉 지질트레일  레저/체험  경관이 아름다우며, 유네스코에서 지정한 세계지질공원이다. 수려한 지질자원과 풍경을 ...\n",
              "42    오설록티뮤지엄  레저/체험  푸른 녹차밭이 펼쳐지는 제주도 서광다원 입구에 위치하고 있다. 동서양 전통과 현대가...\n",
              "43   제주 유리의 성  레저/체험  유리로 만든 많은 조형물, 공예품, 작품들을 볼 수 있다. 예쁘게 꾸며져 있고 직접...\n",
              "44  제주 더 마 파크  레저/체험  카트, 승마, 공연, 동물원이 모여있다. 스피드 있는 카트를 탈 수 있고 다양한 묘..."
            ],
            "text/html": [
              "\n",
              "  <div id=\"df-4732c1df-7c1d-4abd-8740-bf817d171acd\">\n",
              "    <div class=\"colab-df-container\">\n",
              "      <div>\n",
              "<style scoped>\n",
              "    .dataframe tbody tr th:only-of-type {\n",
              "        vertical-align: middle;\n",
              "    }\n",
              "\n",
              "    .dataframe tbody tr th {\n",
              "        vertical-align: top;\n",
              "    }\n",
              "\n",
              "    .dataframe thead th {\n",
              "        text-align: right;\n",
              "    }\n",
              "</style>\n",
              "<table border=\"1\" class=\"dataframe\">\n",
              "  <thead>\n",
              "    <tr style=\"text-align: right;\">\n",
              "      <th></th>\n",
              "      <th>name</th>\n",
              "      <th>label</th>\n",
              "      <th>text</th>\n",
              "    </tr>\n",
              "  </thead>\n",
              "  <tbody>\n",
              "    <tr>\n",
              "      <th>40</th>\n",
              "      <td>아쿠아플라넷</td>\n",
              "      <td>레저/체험</td>\n",
              "      <td>엄청난 규모로 대형 수족관이 있고 다양한 물고기를 볼 수 있다. 환상적인 공연도 있...</td>\n",
              "    </tr>\n",
              "    <tr>\n",
              "      <th>41</th>\n",
              "      <td>수월봉 지질트레일</td>\n",
              "      <td>레저/체험</td>\n",
              "      <td>경관이 아름다우며, 유네스코에서 지정한 세계지질공원이다. 수려한 지질자원과 풍경을 ...</td>\n",
              "    </tr>\n",
              "    <tr>\n",
              "      <th>42</th>\n",
              "      <td>오설록티뮤지엄</td>\n",
              "      <td>레저/체험</td>\n",
              "      <td>푸른 녹차밭이 펼쳐지는 제주도 서광다원 입구에 위치하고 있다. 동서양 전통과 현대가...</td>\n",
              "    </tr>\n",
              "    <tr>\n",
              "      <th>43</th>\n",
              "      <td>제주 유리의 성</td>\n",
              "      <td>레저/체험</td>\n",
              "      <td>유리로 만든 많은 조형물, 공예품, 작품들을 볼 수 있다. 예쁘게 꾸며져 있고 직접...</td>\n",
              "    </tr>\n",
              "    <tr>\n",
              "      <th>44</th>\n",
              "      <td>제주 더 마 파크</td>\n",
              "      <td>레저/체험</td>\n",
              "      <td>카트, 승마, 공연, 동물원이 모여있다. 스피드 있는 카트를 탈 수 있고 다양한 묘...</td>\n",
              "    </tr>\n",
              "  </tbody>\n",
              "</table>\n",
              "</div>\n",
              "      <button class=\"colab-df-convert\" onclick=\"convertToInteractive('df-4732c1df-7c1d-4abd-8740-bf817d171acd')\"\n",
              "              title=\"Convert this dataframe to an interactive table.\"\n",
              "              style=\"display:none;\">\n",
              "        \n",
              "  <svg xmlns=\"http://www.w3.org/2000/svg\" height=\"24px\"viewBox=\"0 0 24 24\"\n",
              "       width=\"24px\">\n",
              "    <path d=\"M0 0h24v24H0V0z\" fill=\"none\"/>\n",
              "    <path d=\"M18.56 5.44l.94 2.06.94-2.06 2.06-.94-2.06-.94-.94-2.06-.94 2.06-2.06.94zm-11 1L8.5 8.5l.94-2.06 2.06-.94-2.06-.94L8.5 2.5l-.94 2.06-2.06.94zm10 10l.94 2.06.94-2.06 2.06-.94-2.06-.94-.94-2.06-.94 2.06-2.06.94z\"/><path d=\"M17.41 7.96l-1.37-1.37c-.4-.4-.92-.59-1.43-.59-.52 0-1.04.2-1.43.59L10.3 9.45l-7.72 7.72c-.78.78-.78 2.05 0 2.83L4 21.41c.39.39.9.59 1.41.59.51 0 1.02-.2 1.41-.59l7.78-7.78 2.81-2.81c.8-.78.8-2.07 0-2.86zM5.41 20L4 18.59l7.72-7.72 1.47 1.35L5.41 20z\"/>\n",
              "  </svg>\n",
              "      </button>\n",
              "      \n",
              "  <style>\n",
              "    .colab-df-container {\n",
              "      display:flex;\n",
              "      flex-wrap:wrap;\n",
              "      gap: 12px;\n",
              "    }\n",
              "\n",
              "    .colab-df-convert {\n",
              "      background-color: #E8F0FE;\n",
              "      border: none;\n",
              "      border-radius: 50%;\n",
              "      cursor: pointer;\n",
              "      display: none;\n",
              "      fill: #1967D2;\n",
              "      height: 32px;\n",
              "      padding: 0 0 0 0;\n",
              "      width: 32px;\n",
              "    }\n",
              "\n",
              "    .colab-df-convert:hover {\n",
              "      background-color: #E2EBFA;\n",
              "      box-shadow: 0px 1px 2px rgba(60, 64, 67, 0.3), 0px 1px 3px 1px rgba(60, 64, 67, 0.15);\n",
              "      fill: #174EA6;\n",
              "    }\n",
              "\n",
              "    [theme=dark] .colab-df-convert {\n",
              "      background-color: #3B4455;\n",
              "      fill: #D2E3FC;\n",
              "    }\n",
              "\n",
              "    [theme=dark] .colab-df-convert:hover {\n",
              "      background-color: #434B5C;\n",
              "      box-shadow: 0px 1px 3px 1px rgba(0, 0, 0, 0.15);\n",
              "      filter: drop-shadow(0px 1px 2px rgba(0, 0, 0, 0.3));\n",
              "      fill: #FFFFFF;\n",
              "    }\n",
              "  </style>\n",
              "\n",
              "      <script>\n",
              "        const buttonEl =\n",
              "          document.querySelector('#df-4732c1df-7c1d-4abd-8740-bf817d171acd button.colab-df-convert');\n",
              "        buttonEl.style.display =\n",
              "          google.colab.kernel.accessAllowed ? 'block' : 'none';\n",
              "\n",
              "        async function convertToInteractive(key) {\n",
              "          const element = document.querySelector('#df-4732c1df-7c1d-4abd-8740-bf817d171acd');\n",
              "          const dataTable =\n",
              "            await google.colab.kernel.invokeFunction('convertToInteractive',\n",
              "                                                     [key], {});\n",
              "          if (!dataTable) return;\n",
              "\n",
              "          const docLinkHtml = 'Like what you see? Visit the ' +\n",
              "            '<a target=\"_blank\" href=https://colab.research.google.com/notebooks/data_table.ipynb>data table notebook</a>'\n",
              "            + ' to learn more about interactive tables.';\n",
              "          element.innerHTML = '';\n",
              "          dataTable['output_type'] = 'display_data';\n",
              "          await google.colab.output.renderOutput(dataTable, element);\n",
              "          const docLink = document.createElement('div');\n",
              "          docLink.innerHTML = docLinkHtml;\n",
              "          element.appendChild(docLink);\n",
              "        }\n",
              "      </script>\n",
              "    </div>\n",
              "  </div>\n",
              "  "
            ]
          },
          "metadata": {},
          "execution_count": 266
        }
      ]
    },
    {
      "cell_type": "code",
      "source": [
        "test_data['text'] = test_data['text'].str.replace(\"[^ㄱ-ㅎㅏ-ㅣ가-힣 ]\",\"\")"
      ],
      "metadata": {
        "colab": {
          "base_uri": "https://localhost:8080/"
        },
        "id": "v2TbywnESusl",
        "outputId": "5f0af81c-b855-489c-8d59-2d870ca20121"
      },
      "execution_count": null,
      "outputs": [
        {
          "output_type": "stream",
          "name": "stderr",
          "text": [
            "/usr/local/lib/python3.7/dist-packages/ipykernel_launcher.py:1: FutureWarning: The default value of regex will change from True to False in a future version.\n",
            "  \"\"\"Entry point for launching an IPython kernel.\n"
          ]
        }
      ]
    },
    {
      "cell_type": "code",
      "source": [
        "test_data['text'] = test_data['text'].str.replace('^ +', \"\") # white space 데이터를 empty value로 변경\n",
        "test_data['text'].replace('', np.nan, inplace=True)\n",
        "print(test_data.isnull().sum())"
      ],
      "metadata": {
        "colab": {
          "base_uri": "https://localhost:8080/"
        },
        "id": "hj08p7JgTUEm",
        "outputId": "2847af25-3776-457b-f034-9acfccbb8d41"
      },
      "execution_count": null,
      "outputs": [
        {
          "output_type": "stream",
          "name": "stdout",
          "text": [
            "name     0\n",
            "label    0\n",
            "text     0\n",
            "dtype: int64\n"
          ]
        },
        {
          "output_type": "stream",
          "name": "stderr",
          "text": [
            "/usr/local/lib/python3.7/dist-packages/ipykernel_launcher.py:1: FutureWarning: The default value of regex will change from True to False in a future version.\n",
            "  \"\"\"Entry point for launching an IPython kernel.\n"
          ]
        }
      ]
    },
    {
      "cell_type": "code",
      "source": [
        "X_test = []\n",
        "for sentence in test_data['text']:\n",
        "    temp_X = okt.morphs(sentence, stem=True) # 토큰화\n",
        "    temp_X = [word for word in temp_X if not word in stopwords] # 불용어 제거\n",
        "    X_test.append(temp_X)"
      ],
      "metadata": {
        "id": "xqxHcV81TXa0"
      },
      "execution_count": null,
      "outputs": []
    },
    {
      "cell_type": "code",
      "source": [
        "X_test = tokenizer.texts_to_sequences(X_test)"
      ],
      "metadata": {
        "id": "L_W4Rw56TZmG"
      },
      "execution_count": null,
      "outputs": []
    },
    {
      "cell_type": "code",
      "source": [
        "y_test = np.array(test_data['label'])"
      ],
      "metadata": {
        "id": "hVuYjktHTb8g"
      },
      "execution_count": null,
      "outputs": []
    },
    {
      "cell_type": "code",
      "source": [
        "y_test"
      ],
      "metadata": {
        "colab": {
          "base_uri": "https://localhost:8080/"
        },
        "id": "qgXQzZlPGvSo",
        "outputId": "0defe2c9-3bde-4419-daa8-a4c79b06f0df"
      },
      "execution_count": null,
      "outputs": [
        {
          "output_type": "execute_result",
          "data": {
            "text/plain": [
              "array(['자연', '자연', '자연', '자연', '자연', '자연', '자연', '자연', '자연', '자연', '자연',\n",
              "       '자연', '자연', '자연', '자연', '교육', '교육', '교육', '교육', '교육', '교육', '교육',\n",
              "       '교육', '교육', '교육', '교육', '교육', '교육', '교육', '교육', '레저/체험', '레저/체험',\n",
              "       '레저/체험', '레저/체험', '레저/체험', '레저/체험', '레저/체험', '레저/체험', '레저/체험',\n",
              "       '레저/체험', '레저/체험', '레저/체험', '레저/체험', '레저/체험', '레저/체험'], dtype=object)"
            ]
          },
          "metadata": {},
          "execution_count": 278
        }
      ]
    },
    {
      "cell_type": "code",
      "source": [
        "drop_test = [index for index, sentence in enumerate(X_test) if len(sentence) < 1]"
      ],
      "metadata": {
        "id": "PKaPFvLnTe7O"
      },
      "execution_count": null,
      "outputs": []
    },
    {
      "cell_type": "code",
      "source": [
        "X_test = pad_sequences(X_test, maxlen = max_len)"
      ],
      "metadata": {
        "id": "ivKfJ9FmTf0S"
      },
      "execution_count": null,
      "outputs": []
    },
    {
      "cell_type": "code",
      "source": [
        "loaded_model = load_model('best_model.h5')"
      ],
      "metadata": {
        "id": "XwZQC4PRTjB5"
      },
      "execution_count": null,
      "outputs": []
    },
    {
      "cell_type": "markdown",
      "source": [
        "**바꾼 부분 >> encoder 에 y_test 핏 트랜스폼 시킴**"
      ],
      "metadata": {
        "id": "IFHsKAx1HxaU"
      }
    },
    {
      "cell_type": "code",
      "source": [
        "y_1=encoder.fit_transform(test_data['label']) #인코더에 맞게 변환중\n",
        "y_test=y_1 "
      ],
      "metadata": {
        "id": "Nxffw1WmHQ2W"
      },
      "execution_count": null,
      "outputs": []
    },
    {
      "cell_type": "code",
      "source": [
        "y_test"
      ],
      "metadata": {
        "colab": {
          "base_uri": "https://localhost:8080/"
        },
        "id": "tIhq-EzGTlaE",
        "outputId": "9b0fa7ad-f9e1-492d-96cf-0b2f35c4d37a"
      },
      "execution_count": null,
      "outputs": [
        {
          "output_type": "execute_result",
          "data": {
            "text/plain": [
              "array([2, 2, 2, 2, 2, 2, 2, 2, 2, 2, 2, 2, 2, 2, 2, 0, 0, 0, 0, 0, 0, 0,\n",
              "       0, 0, 0, 0, 0, 0, 0, 0, 1, 1, 1, 1, 1, 1, 1, 1, 1, 1, 1, 1, 1, 1,\n",
              "       1])"
            ]
          },
          "metadata": {},
          "execution_count": 280
        }
      ]
    },
    {
      "cell_type": "code",
      "source": [
        "print(\"\\n 테스트 정확도: %.4f\" % (loaded_model.evaluate(X_test, y_test)[1]))"
      ],
      "metadata": {
        "colab": {
          "base_uri": "https://localhost:8080/"
        },
        "id": "xOIDYoYE2ctN",
        "outputId": "9d2e17e2-0a82-4db0-b135-0e8045cd7cf8"
      },
      "execution_count": null,
      "outputs": [
        {
          "output_type": "stream",
          "name": "stdout",
          "text": [
            "2/2 [==============================] - 1s 31ms/step - loss: 0.3540 - acc: 0.8889\n",
            "\n",
            " 테스트 정확도: 0.8889\n"
          ]
        }
      ]
    },
    {
      "cell_type": "code",
      "source": [
        "softmax = loaded_model.predict(X_test)"
      ],
      "metadata": {
        "id": "yrnAkNsFDg6l"
      },
      "execution_count": null,
      "outputs": []
    },
    {
      "cell_type": "code",
      "source": [
        "np.set_printoptions(formatter={'float_kind': lambda x: \"{0:0.6f}\".format(x)})"
      ],
      "metadata": {
        "id": "AcDPZyVFJZlW"
      },
      "execution_count": null,
      "outputs": []
    },
    {
      "cell_type": "code",
      "source": [
        "softmax = list(softmax)"
      ],
      "metadata": {
        "id": "rs18h5tGJk7O"
      },
      "execution_count": null,
      "outputs": []
    },
    {
      "cell_type": "code",
      "source": [
        "les = []\n",
        "edu = []\n",
        "nature = []\n",
        "\n",
        "for i in range(45):\n",
        "  for j in range(3):\n",
        "    if j == 0: edu.append(softmax[i][j])\n",
        "    elif j ==1 : les.append(softmax[i][j])\n",
        "    elif j == 2 : nature.append(softmax[i][j])\n",
        "      "
      ],
      "metadata": {
        "id": "EZkDZ4LHOusr"
      },
      "execution_count": null,
      "outputs": []
    },
    {
      "cell_type": "code",
      "source": [
        "test_data['edu'] = edu\n",
        "test_data['les'] = edu\n",
        "test_data['nature'] = nature"
      ],
      "metadata": {
        "id": "8n2fwZ6bNiy5"
      },
      "execution_count": null,
      "outputs": []
    },
    {
      "cell_type": "code",
      "source": [
        "pd.options.display.float_format = '{:.5f}'.format"
      ],
      "metadata": {
        "id": "Nhdg-RNxP9xQ"
      },
      "execution_count": null,
      "outputs": []
    },
    {
      "cell_type": "code",
      "source": [
        "test_data = test_data.loc[:,['name', 'edu', 'les','nature']]\n",
        "test_data"
      ],
      "metadata": {
        "colab": {
          "base_uri": "https://localhost:8080/",
          "height": 1000
        },
        "id": "utJgqDioOdfp",
        "outputId": "bd064b17-1880-4c9e-9df3-4c35f0990de1"
      },
      "execution_count": null,
      "outputs": [
        {
          "output_type": "execute_result",
          "data": {
            "text/plain": [
              "             name     edu     les  nature\n",
              "0          성산 일출봉 0.00000 0.00000 0.99999\n",
              "1           사려니숲길 0.00001 0.00001 0.99993\n",
              "2         협재 해수욕장 0.00002 0.00002 0.99987\n",
              "3          월정리 해변 0.00012 0.00012 0.99932\n",
              "4         함덕 해수욕장 0.00021 0.00021 0.99796\n",
              "5            산굼부리 0.00005 0.00005 0.99966\n",
              "6            섭지코지 0.00002 0.00002 0.99988\n",
              "7         한라산국립공원 0.16784 0.16784 0.79822\n",
              "8             비자림 0.00020 0.00020 0.99953\n",
              "9           천지연폭포 0.00001 0.00001 0.99993\n",
              "10          용머리해안 0.00000 0.00000 1.00000\n",
              "11            용두암 0.00007 0.00007 0.99976\n",
              "12            마라도 0.00003 0.00003 0.99987\n",
              "13             우도 0.00000 0.00000 1.00000\n",
              "14            가파도 0.00000 0.00000 0.99999\n",
              "15         돌문화 공원 0.99940 0.99940 0.00007\n",
              "16            삼성혈 0.99939 0.99939 0.00013\n",
              "17            추사관 0.94269 0.94269 0.00171\n",
              "18         제주목 관야 0.99929 0.99929 0.00014\n",
              "19           선운정사 0.78240 0.78240 0.16625\n",
              "20     김영갑갤러리 두모악 0.32648 0.32648 0.50050\n",
              "21          이중섭거리 0.95146 0.95146 0.00054\n",
              "22            관덕정 0.99945 0.99945 0.00006\n",
              "23    너븐숭이 4.3기념관 0.99972 0.99972 0.00005\n",
              "24          제주민속촌 0.99894 0.99894 0.00021\n",
              "25      항파두리항몽유적지 0.99942 0.99942 0.00009\n",
              "26           성읍마을 0.99868 0.99868 0.00006\n",
              "27     제주세계자연유산센터 0.98906 0.98906 0.00163\n",
              "28  제주 민속 자연사 박물관 0.99278 0.99278 0.00122\n",
              "29    제주 4.3 평화공원 0.99963 0.99963 0.00006\n",
              "30         아침미소목장 0.60499 0.60499 0.01031\n",
              "31        제주레일바이크 0.14835 0.14835 0.00439\n",
              "32         서귀포잠수함 0.15143 0.15143 0.08921\n",
              "33        아날로그감귤밭 0.00244 0.00244 0.00025\n",
              "34     피시픽리솜 요트투어 0.00453 0.00453 0.82455\n",
              "35        제주레포츠랜드 0.01918 0.01918 0.00062\n",
              "36      월정리 카약 체험 0.00977 0.00977 0.95699\n",
              "37       제주김녕미로공원 0.00194 0.00194 0.00019\n",
              "38           애코랜드 0.00228 0.00228 0.00076\n",
              "39        테디베어박물관 0.01943 0.01943 0.00106\n",
              "40         아쿠아플라넷 0.17109 0.17109 0.00214\n",
              "41      수월봉 지질트레일 0.40391 0.40391 0.01547\n",
              "42        오설록티뮤지엄 0.99729 0.99729 0.00066\n",
              "43       제주 유리의 성 0.47611 0.47611 0.00177\n",
              "44      제주 더 마 파크 0.01250 0.01250 0.00070"
            ],
            "text/html": [
              "\n",
              "  <div id=\"df-00705c22-6f2f-4185-b593-f6d0adb9d038\">\n",
              "    <div class=\"colab-df-container\">\n",
              "      <div>\n",
              "<style scoped>\n",
              "    .dataframe tbody tr th:only-of-type {\n",
              "        vertical-align: middle;\n",
              "    }\n",
              "\n",
              "    .dataframe tbody tr th {\n",
              "        vertical-align: top;\n",
              "    }\n",
              "\n",
              "    .dataframe thead th {\n",
              "        text-align: right;\n",
              "    }\n",
              "</style>\n",
              "<table border=\"1\" class=\"dataframe\">\n",
              "  <thead>\n",
              "    <tr style=\"text-align: right;\">\n",
              "      <th></th>\n",
              "      <th>name</th>\n",
              "      <th>edu</th>\n",
              "      <th>les</th>\n",
              "      <th>nature</th>\n",
              "    </tr>\n",
              "  </thead>\n",
              "  <tbody>\n",
              "    <tr>\n",
              "      <th>0</th>\n",
              "      <td>성산 일출봉</td>\n",
              "      <td>0.00000</td>\n",
              "      <td>0.00000</td>\n",
              "      <td>0.99999</td>\n",
              "    </tr>\n",
              "    <tr>\n",
              "      <th>1</th>\n",
              "      <td>사려니숲길</td>\n",
              "      <td>0.00001</td>\n",
              "      <td>0.00001</td>\n",
              "      <td>0.99993</td>\n",
              "    </tr>\n",
              "    <tr>\n",
              "      <th>2</th>\n",
              "      <td>협재 해수욕장</td>\n",
              "      <td>0.00002</td>\n",
              "      <td>0.00002</td>\n",
              "      <td>0.99987</td>\n",
              "    </tr>\n",
              "    <tr>\n",
              "      <th>3</th>\n",
              "      <td>월정리 해변</td>\n",
              "      <td>0.00012</td>\n",
              "      <td>0.00012</td>\n",
              "      <td>0.99932</td>\n",
              "    </tr>\n",
              "    <tr>\n",
              "      <th>4</th>\n",
              "      <td>함덕 해수욕장</td>\n",
              "      <td>0.00021</td>\n",
              "      <td>0.00021</td>\n",
              "      <td>0.99796</td>\n",
              "    </tr>\n",
              "    <tr>\n",
              "      <th>5</th>\n",
              "      <td>산굼부리</td>\n",
              "      <td>0.00005</td>\n",
              "      <td>0.00005</td>\n",
              "      <td>0.99966</td>\n",
              "    </tr>\n",
              "    <tr>\n",
              "      <th>6</th>\n",
              "      <td>섭지코지</td>\n",
              "      <td>0.00002</td>\n",
              "      <td>0.00002</td>\n",
              "      <td>0.99988</td>\n",
              "    </tr>\n",
              "    <tr>\n",
              "      <th>7</th>\n",
              "      <td>한라산국립공원</td>\n",
              "      <td>0.16784</td>\n",
              "      <td>0.16784</td>\n",
              "      <td>0.79822</td>\n",
              "    </tr>\n",
              "    <tr>\n",
              "      <th>8</th>\n",
              "      <td>비자림</td>\n",
              "      <td>0.00020</td>\n",
              "      <td>0.00020</td>\n",
              "      <td>0.99953</td>\n",
              "    </tr>\n",
              "    <tr>\n",
              "      <th>9</th>\n",
              "      <td>천지연폭포</td>\n",
              "      <td>0.00001</td>\n",
              "      <td>0.00001</td>\n",
              "      <td>0.99993</td>\n",
              "    </tr>\n",
              "    <tr>\n",
              "      <th>10</th>\n",
              "      <td>용머리해안</td>\n",
              "      <td>0.00000</td>\n",
              "      <td>0.00000</td>\n",
              "      <td>1.00000</td>\n",
              "    </tr>\n",
              "    <tr>\n",
              "      <th>11</th>\n",
              "      <td>용두암</td>\n",
              "      <td>0.00007</td>\n",
              "      <td>0.00007</td>\n",
              "      <td>0.99976</td>\n",
              "    </tr>\n",
              "    <tr>\n",
              "      <th>12</th>\n",
              "      <td>마라도</td>\n",
              "      <td>0.00003</td>\n",
              "      <td>0.00003</td>\n",
              "      <td>0.99987</td>\n",
              "    </tr>\n",
              "    <tr>\n",
              "      <th>13</th>\n",
              "      <td>우도</td>\n",
              "      <td>0.00000</td>\n",
              "      <td>0.00000</td>\n",
              "      <td>1.00000</td>\n",
              "    </tr>\n",
              "    <tr>\n",
              "      <th>14</th>\n",
              "      <td>가파도</td>\n",
              "      <td>0.00000</td>\n",
              "      <td>0.00000</td>\n",
              "      <td>0.99999</td>\n",
              "    </tr>\n",
              "    <tr>\n",
              "      <th>15</th>\n",
              "      <td>돌문화 공원</td>\n",
              "      <td>0.99940</td>\n",
              "      <td>0.99940</td>\n",
              "      <td>0.00007</td>\n",
              "    </tr>\n",
              "    <tr>\n",
              "      <th>16</th>\n",
              "      <td>삼성혈</td>\n",
              "      <td>0.99939</td>\n",
              "      <td>0.99939</td>\n",
              "      <td>0.00013</td>\n",
              "    </tr>\n",
              "    <tr>\n",
              "      <th>17</th>\n",
              "      <td>추사관</td>\n",
              "      <td>0.94269</td>\n",
              "      <td>0.94269</td>\n",
              "      <td>0.00171</td>\n",
              "    </tr>\n",
              "    <tr>\n",
              "      <th>18</th>\n",
              "      <td>제주목 관야</td>\n",
              "      <td>0.99929</td>\n",
              "      <td>0.99929</td>\n",
              "      <td>0.00014</td>\n",
              "    </tr>\n",
              "    <tr>\n",
              "      <th>19</th>\n",
              "      <td>선운정사</td>\n",
              "      <td>0.78240</td>\n",
              "      <td>0.78240</td>\n",
              "      <td>0.16625</td>\n",
              "    </tr>\n",
              "    <tr>\n",
              "      <th>20</th>\n",
              "      <td>김영갑갤러리 두모악</td>\n",
              "      <td>0.32648</td>\n",
              "      <td>0.32648</td>\n",
              "      <td>0.50050</td>\n",
              "    </tr>\n",
              "    <tr>\n",
              "      <th>21</th>\n",
              "      <td>이중섭거리</td>\n",
              "      <td>0.95146</td>\n",
              "      <td>0.95146</td>\n",
              "      <td>0.00054</td>\n",
              "    </tr>\n",
              "    <tr>\n",
              "      <th>22</th>\n",
              "      <td>관덕정</td>\n",
              "      <td>0.99945</td>\n",
              "      <td>0.99945</td>\n",
              "      <td>0.00006</td>\n",
              "    </tr>\n",
              "    <tr>\n",
              "      <th>23</th>\n",
              "      <td>너븐숭이 4.3기념관</td>\n",
              "      <td>0.99972</td>\n",
              "      <td>0.99972</td>\n",
              "      <td>0.00005</td>\n",
              "    </tr>\n",
              "    <tr>\n",
              "      <th>24</th>\n",
              "      <td>제주민속촌</td>\n",
              "      <td>0.99894</td>\n",
              "      <td>0.99894</td>\n",
              "      <td>0.00021</td>\n",
              "    </tr>\n",
              "    <tr>\n",
              "      <th>25</th>\n",
              "      <td>항파두리항몽유적지</td>\n",
              "      <td>0.99942</td>\n",
              "      <td>0.99942</td>\n",
              "      <td>0.00009</td>\n",
              "    </tr>\n",
              "    <tr>\n",
              "      <th>26</th>\n",
              "      <td>성읍마을</td>\n",
              "      <td>0.99868</td>\n",
              "      <td>0.99868</td>\n",
              "      <td>0.00006</td>\n",
              "    </tr>\n",
              "    <tr>\n",
              "      <th>27</th>\n",
              "      <td>제주세계자연유산센터</td>\n",
              "      <td>0.98906</td>\n",
              "      <td>0.98906</td>\n",
              "      <td>0.00163</td>\n",
              "    </tr>\n",
              "    <tr>\n",
              "      <th>28</th>\n",
              "      <td>제주 민속 자연사 박물관</td>\n",
              "      <td>0.99278</td>\n",
              "      <td>0.99278</td>\n",
              "      <td>0.00122</td>\n",
              "    </tr>\n",
              "    <tr>\n",
              "      <th>29</th>\n",
              "      <td>제주 4.3 평화공원</td>\n",
              "      <td>0.99963</td>\n",
              "      <td>0.99963</td>\n",
              "      <td>0.00006</td>\n",
              "    </tr>\n",
              "    <tr>\n",
              "      <th>30</th>\n",
              "      <td>아침미소목장</td>\n",
              "      <td>0.60499</td>\n",
              "      <td>0.60499</td>\n",
              "      <td>0.01031</td>\n",
              "    </tr>\n",
              "    <tr>\n",
              "      <th>31</th>\n",
              "      <td>제주레일바이크</td>\n",
              "      <td>0.14835</td>\n",
              "      <td>0.14835</td>\n",
              "      <td>0.00439</td>\n",
              "    </tr>\n",
              "    <tr>\n",
              "      <th>32</th>\n",
              "      <td>서귀포잠수함</td>\n",
              "      <td>0.15143</td>\n",
              "      <td>0.15143</td>\n",
              "      <td>0.08921</td>\n",
              "    </tr>\n",
              "    <tr>\n",
              "      <th>33</th>\n",
              "      <td>아날로그감귤밭</td>\n",
              "      <td>0.00244</td>\n",
              "      <td>0.00244</td>\n",
              "      <td>0.00025</td>\n",
              "    </tr>\n",
              "    <tr>\n",
              "      <th>34</th>\n",
              "      <td>피시픽리솜 요트투어</td>\n",
              "      <td>0.00453</td>\n",
              "      <td>0.00453</td>\n",
              "      <td>0.82455</td>\n",
              "    </tr>\n",
              "    <tr>\n",
              "      <th>35</th>\n",
              "      <td>제주레포츠랜드</td>\n",
              "      <td>0.01918</td>\n",
              "      <td>0.01918</td>\n",
              "      <td>0.00062</td>\n",
              "    </tr>\n",
              "    <tr>\n",
              "      <th>36</th>\n",
              "      <td>월정리 카약 체험</td>\n",
              "      <td>0.00977</td>\n",
              "      <td>0.00977</td>\n",
              "      <td>0.95699</td>\n",
              "    </tr>\n",
              "    <tr>\n",
              "      <th>37</th>\n",
              "      <td>제주김녕미로공원</td>\n",
              "      <td>0.00194</td>\n",
              "      <td>0.00194</td>\n",
              "      <td>0.00019</td>\n",
              "    </tr>\n",
              "    <tr>\n",
              "      <th>38</th>\n",
              "      <td>애코랜드</td>\n",
              "      <td>0.00228</td>\n",
              "      <td>0.00228</td>\n",
              "      <td>0.00076</td>\n",
              "    </tr>\n",
              "    <tr>\n",
              "      <th>39</th>\n",
              "      <td>테디베어박물관</td>\n",
              "      <td>0.01943</td>\n",
              "      <td>0.01943</td>\n",
              "      <td>0.00106</td>\n",
              "    </tr>\n",
              "    <tr>\n",
              "      <th>40</th>\n",
              "      <td>아쿠아플라넷</td>\n",
              "      <td>0.17109</td>\n",
              "      <td>0.17109</td>\n",
              "      <td>0.00214</td>\n",
              "    </tr>\n",
              "    <tr>\n",
              "      <th>41</th>\n",
              "      <td>수월봉 지질트레일</td>\n",
              "      <td>0.40391</td>\n",
              "      <td>0.40391</td>\n",
              "      <td>0.01547</td>\n",
              "    </tr>\n",
              "    <tr>\n",
              "      <th>42</th>\n",
              "      <td>오설록티뮤지엄</td>\n",
              "      <td>0.99729</td>\n",
              "      <td>0.99729</td>\n",
              "      <td>0.00066</td>\n",
              "    </tr>\n",
              "    <tr>\n",
              "      <th>43</th>\n",
              "      <td>제주 유리의 성</td>\n",
              "      <td>0.47611</td>\n",
              "      <td>0.47611</td>\n",
              "      <td>0.00177</td>\n",
              "    </tr>\n",
              "    <tr>\n",
              "      <th>44</th>\n",
              "      <td>제주 더 마 파크</td>\n",
              "      <td>0.01250</td>\n",
              "      <td>0.01250</td>\n",
              "      <td>0.00070</td>\n",
              "    </tr>\n",
              "  </tbody>\n",
              "</table>\n",
              "</div>\n",
              "      <button class=\"colab-df-convert\" onclick=\"convertToInteractive('df-00705c22-6f2f-4185-b593-f6d0adb9d038')\"\n",
              "              title=\"Convert this dataframe to an interactive table.\"\n",
              "              style=\"display:none;\">\n",
              "        \n",
              "  <svg xmlns=\"http://www.w3.org/2000/svg\" height=\"24px\"viewBox=\"0 0 24 24\"\n",
              "       width=\"24px\">\n",
              "    <path d=\"M0 0h24v24H0V0z\" fill=\"none\"/>\n",
              "    <path d=\"M18.56 5.44l.94 2.06.94-2.06 2.06-.94-2.06-.94-.94-2.06-.94 2.06-2.06.94zm-11 1L8.5 8.5l.94-2.06 2.06-.94-2.06-.94L8.5 2.5l-.94 2.06-2.06.94zm10 10l.94 2.06.94-2.06 2.06-.94-2.06-.94-.94-2.06-.94 2.06-2.06.94z\"/><path d=\"M17.41 7.96l-1.37-1.37c-.4-.4-.92-.59-1.43-.59-.52 0-1.04.2-1.43.59L10.3 9.45l-7.72 7.72c-.78.78-.78 2.05 0 2.83L4 21.41c.39.39.9.59 1.41.59.51 0 1.02-.2 1.41-.59l7.78-7.78 2.81-2.81c.8-.78.8-2.07 0-2.86zM5.41 20L4 18.59l7.72-7.72 1.47 1.35L5.41 20z\"/>\n",
              "  </svg>\n",
              "      </button>\n",
              "      \n",
              "  <style>\n",
              "    .colab-df-container {\n",
              "      display:flex;\n",
              "      flex-wrap:wrap;\n",
              "      gap: 12px;\n",
              "    }\n",
              "\n",
              "    .colab-df-convert {\n",
              "      background-color: #E8F0FE;\n",
              "      border: none;\n",
              "      border-radius: 50%;\n",
              "      cursor: pointer;\n",
              "      display: none;\n",
              "      fill: #1967D2;\n",
              "      height: 32px;\n",
              "      padding: 0 0 0 0;\n",
              "      width: 32px;\n",
              "    }\n",
              "\n",
              "    .colab-df-convert:hover {\n",
              "      background-color: #E2EBFA;\n",
              "      box-shadow: 0px 1px 2px rgba(60, 64, 67, 0.3), 0px 1px 3px 1px rgba(60, 64, 67, 0.15);\n",
              "      fill: #174EA6;\n",
              "    }\n",
              "\n",
              "    [theme=dark] .colab-df-convert {\n",
              "      background-color: #3B4455;\n",
              "      fill: #D2E3FC;\n",
              "    }\n",
              "\n",
              "    [theme=dark] .colab-df-convert:hover {\n",
              "      background-color: #434B5C;\n",
              "      box-shadow: 0px 1px 3px 1px rgba(0, 0, 0, 0.15);\n",
              "      filter: drop-shadow(0px 1px 2px rgba(0, 0, 0, 0.3));\n",
              "      fill: #FFFFFF;\n",
              "    }\n",
              "  </style>\n",
              "\n",
              "      <script>\n",
              "        const buttonEl =\n",
              "          document.querySelector('#df-00705c22-6f2f-4185-b593-f6d0adb9d038 button.colab-df-convert');\n",
              "        buttonEl.style.display =\n",
              "          google.colab.kernel.accessAllowed ? 'block' : 'none';\n",
              "\n",
              "        async function convertToInteractive(key) {\n",
              "          const element = document.querySelector('#df-00705c22-6f2f-4185-b593-f6d0adb9d038');\n",
              "          const dataTable =\n",
              "            await google.colab.kernel.invokeFunction('convertToInteractive',\n",
              "                                                     [key], {});\n",
              "          if (!dataTable) return;\n",
              "\n",
              "          const docLinkHtml = 'Like what you see? Visit the ' +\n",
              "            '<a target=\"_blank\" href=https://colab.research.google.com/notebooks/data_table.ipynb>data table notebook</a>'\n",
              "            + ' to learn more about interactive tables.';\n",
              "          element.innerHTML = '';\n",
              "          dataTable['output_type'] = 'display_data';\n",
              "          await google.colab.output.renderOutput(dataTable, element);\n",
              "          const docLink = document.createElement('div');\n",
              "          docLink.innerHTML = docLinkHtml;\n",
              "          element.appendChild(docLink);\n",
              "        }\n",
              "      </script>\n",
              "    </div>\n",
              "  </div>\n",
              "  "
            ]
          },
          "metadata": {},
          "execution_count": 329
        }
      ]
    },
    {
      "cell_type": "code",
      "source": [
        "test_data.to_csv(\"/content/drive/MyDrive/종합설계/softmax\", encoding='utf-8-sig', index=False)"
      ],
      "metadata": {
        "id": "gzJOT1oJQBhO"
      },
      "execution_count": null,
      "outputs": []
    }
  ]
}
